{
 "cells": [
  {
   "attachments": {},
   "cell_type": "markdown",
   "metadata": {},
   "source": [
    "# Modeling"
   ]
  },
  {
   "cell_type": "markdown",
   "metadata": {},
   "source": [
    "![a](https://wallpapercave.com/dwp1x/wp4908775.jpg)"
   ]
  },
  {
   "cell_type": "markdown",
   "metadata": {},
   "source": [
    "### Thư viện cần thiết cho việc build model "
   ]
  },
  {
   "cell_type": "code",
   "execution_count": 1,
   "metadata": {},
   "outputs": [],
   "source": [
    "%matplotlib inline\n",
    "import numpy as np\n",
    "import pandas as pd\n",
    "import matplotlib.pyplot as plt\n",
    "\n",
    "from sklearn.model_selection import train_test_split\n",
    "\n",
    "from sklearn.linear_model import LinearRegression\n",
    "\n",
    "from sklearn.metrics import mean_squared_error\n",
    "from sklearn import metrics \n",
    "from sklearn.metrics import accuracy_score\n",
    "\n",
    "from IPython import display\n",
    "from sklearn.model_selection import train_test_split, cross_val_predict, cross_val_score,KFold, RepeatedStratifiedKFold, GridSearchCV, RandomizedSearchCV\n",
    "from sklearn.model_selection import RepeatedStratifiedKFold\n",
    "from sklearn.metrics import r2_score\n",
    "\n",
    "\n",
    "from sklearn.model_selection import RepeatedKFold"
   ]
  },
  {
   "cell_type": "markdown",
   "metadata": {},
   "source": [
    "### Đọc dữ liệu từ file csv"
   ]
  },
  {
   "cell_type": "markdown",
   "metadata": {},
   "source": [
    "Trước hết, chúng ta sẽ import bộ dữ liệu đã crawl được vào file DataFiFa và lưu trữ nó trong một biến gọi là df."
   ]
  },
  {
   "cell_type": "code",
   "execution_count": 2,
   "metadata": {},
   "outputs": [
    {
     "data": {
      "text/html": [
       "<div>\n",
       "<style scoped>\n",
       "    .dataframe tbody tr th:only-of-type {\n",
       "        vertical-align: middle;\n",
       "    }\n",
       "\n",
       "    .dataframe tbody tr th {\n",
       "        vertical-align: top;\n",
       "    }\n",
       "\n",
       "    .dataframe thead th {\n",
       "        text-align: right;\n",
       "    }\n",
       "</style>\n",
       "<table border=\"1\" class=\"dataframe\">\n",
       "  <thead>\n",
       "    <tr style=\"text-align: right;\">\n",
       "      <th></th>\n",
       "      <th>Player</th>\n",
       "      <th>Team</th>\n",
       "      <th>Position</th>\n",
       "      <th>Apps</th>\n",
       "      <th>Mins</th>\n",
       "      <th>Goals</th>\n",
       "      <th>Assists</th>\n",
       "      <th>YelCard</th>\n",
       "      <th>RedCard</th>\n",
       "      <th>SpG</th>\n",
       "      <th>PS</th>\n",
       "      <th>AerialsWon</th>\n",
       "      <th>MotM</th>\n",
       "      <th>Ratting</th>\n",
       "    </tr>\n",
       "  </thead>\n",
       "  <tbody>\n",
       "    <tr>\n",
       "      <th>0</th>\n",
       "      <td>Lionel Messi</td>\n",
       "      <td>PSG</td>\n",
       "      <td>AM(CR),FW</td>\n",
       "      <td>13</td>\n",
       "      <td>1132</td>\n",
       "      <td>7</td>\n",
       "      <td>10</td>\n",
       "      <td>0</td>\n",
       "      <td>0</td>\n",
       "      <td>4.3</td>\n",
       "      <td>83.4</td>\n",
       "      <td>0.0</td>\n",
       "      <td>7</td>\n",
       "      <td>8.65</td>\n",
       "    </tr>\n",
       "    <tr>\n",
       "      <th>1</th>\n",
       "      <td>Neymar</td>\n",
       "      <td>PSG</td>\n",
       "      <td>AM(CLR),FW</td>\n",
       "      <td>12</td>\n",
       "      <td>1085</td>\n",
       "      <td>11</td>\n",
       "      <td>9</td>\n",
       "      <td>3</td>\n",
       "      <td>0</td>\n",
       "      <td>2.4</td>\n",
       "      <td>82.6</td>\n",
       "      <td>0.1</td>\n",
       "      <td>2</td>\n",
       "      <td>7.96</td>\n",
       "    </tr>\n",
       "    <tr>\n",
       "      <th>2</th>\n",
       "      <td>Erling Haaland</td>\n",
       "      <td>Man City</td>\n",
       "      <td>FW</td>\n",
       "      <td>12</td>\n",
       "      <td>1041</td>\n",
       "      <td>18</td>\n",
       "      <td>3</td>\n",
       "      <td>2</td>\n",
       "      <td>0</td>\n",
       "      <td>4.0</td>\n",
       "      <td>76.5</td>\n",
       "      <td>1.0</td>\n",
       "      <td>3</td>\n",
       "      <td>7.90</td>\n",
       "    </tr>\n",
       "    <tr>\n",
       "      <th>3</th>\n",
       "      <td>Kylian Mbappé</td>\n",
       "      <td>PSG</td>\n",
       "      <td>AM(LR),FW</td>\n",
       "      <td>13</td>\n",
       "      <td>1146</td>\n",
       "      <td>12</td>\n",
       "      <td>2</td>\n",
       "      <td>2</td>\n",
       "      <td>0</td>\n",
       "      <td>4.3</td>\n",
       "      <td>84.0</td>\n",
       "      <td>0.4</td>\n",
       "      <td>1</td>\n",
       "      <td>7.87</td>\n",
       "    </tr>\n",
       "    <tr>\n",
       "      <th>4</th>\n",
       "      <td>Kevin De Bruyne</td>\n",
       "      <td>Man City</td>\n",
       "      <td>M(CLR),FW</td>\n",
       "      <td>13</td>\n",
       "      <td>1135</td>\n",
       "      <td>3</td>\n",
       "      <td>9</td>\n",
       "      <td>0</td>\n",
       "      <td>0</td>\n",
       "      <td>2.4</td>\n",
       "      <td>79.5</td>\n",
       "      <td>0.4</td>\n",
       "      <td>5</td>\n",
       "      <td>7.76</td>\n",
       "    </tr>\n",
       "  </tbody>\n",
       "</table>\n",
       "</div>"
      ],
      "text/plain": [
       "            Player      Team    Position  Apps  Mins  Goals  Assists  YelCard  \\\n",
       "0     Lionel Messi       PSG   AM(CR),FW    13  1132      7       10        0   \n",
       "1           Neymar       PSG  AM(CLR),FW    12  1085     11        9        3   \n",
       "2   Erling Haaland  Man City          FW    12  1041     18        3        2   \n",
       "3    Kylian Mbappé       PSG   AM(LR),FW    13  1146     12        2        2   \n",
       "4  Kevin De Bruyne  Man City   M(CLR),FW    13  1135      3        9        0   \n",
       "\n",
       "   RedCard  SpG    PS  AerialsWon  MotM  Ratting  \n",
       "0        0  4.3  83.4         0.0     7     8.65  \n",
       "1        0  2.4  82.6         0.1     2     7.96  \n",
       "2        0  4.0  76.5         1.0     3     7.90  \n",
       "3        0  4.3  84.0         0.4     1     7.87  \n",
       "4        0  2.4  79.5         0.4     5     7.76  "
      ]
     },
     "execution_count": 2,
     "metadata": {},
     "output_type": "execute_result"
    }
   ],
   "source": [
    "df = pd.read_csv(\"Data_Cleaned.csv\")\n",
    "df.head()"
   ]
  },
  {
   "cell_type": "markdown",
   "metadata": {},
   "source": [
    "### Tách dữ liệu để train-test:\n",
    "Về cơ bản, trước khi chia dữ liệu thành tập dữ liệu để train - test, chúng ta cần chia dữ liệu thành hai giá trị : giá trị đích và giá trị dự báo. Hãy gọi giá trị đích Y và các giá trị dự báo X\n",
    "- X là list giá trị feature \n",
    "- y lấy giá trị của cột Ratting\n"
   ]
  },
  {
   "cell_type": "code",
   "execution_count": 3,
   "metadata": {},
   "outputs": [],
   "source": [
    "Features= ['Apps','Mins','Goals','Assists','YelCard','RedCard','SpG','PS','AerialsWon','MotM']"
   ]
  },
  {
   "cell_type": "code",
   "execution_count": 4,
   "metadata": {},
   "outputs": [],
   "source": [
    "X =df[Features]\n",
    "y= df[\"Ratting\"]"
   ]
  },
  {
   "cell_type": "markdown",
   "metadata": {},
   "source": [
    "Bây giờ chúng ta có thể split dữ liệu để train và test với snippet như sau"
   ]
  },
  {
   "cell_type": "markdown",
   "metadata": {},
   "source": [
    "- Nếu chúng ta kiểm tra shape của mỗi biến, chúng ta đã có được bộ dữ liệu với tập dữ liệu thử nghiệm có tỷ lệ 80% đối với dữ liệu train và 20% đối với dữ liệu test."
   ]
  },
  {
   "cell_type": "code",
   "execution_count": 5,
   "metadata": {},
   "outputs": [
    {
     "name": "stdout",
     "output_type": "stream",
     "text": [
      "(1156, 10) (290, 10) (1156,) (290,)\n"
     ]
    }
   ],
   "source": [
    "from sklearn.model_selection import train_test_split\n",
    "X_train, X_test, y_train, y_test = train_test_split(X,y, train_size= 0.8,random_state=0)\n",
    "print (X_train.shape, X_test.shape, y_train.shape, y_test.shape )"
   ]
  },
  {
   "attachments": {},
   "cell_type": "markdown",
   "metadata": {},
   "source": [
    "### Xây dựng hàm Grid search để tìm best hyperparameter cho LinearRegression và RandomForestResgression"
   ]
  },
  {
   "cell_type": "code",
   "execution_count": 6,
   "metadata": {},
   "outputs": [],
   "source": [
    "def Grid_Search_LinearRegression(X_train, y_train):\n",
    "    from sklearn.model_selection import GridSearchCV\n",
    "    from sklearn.linear_model import LinearRegression\n",
    "\n",
    "    estimator = LinearRegression()\n",
    "    param_grid = { \n",
    "            \n",
    "            \"n_jobs\" : [None,2,4,8],\n",
    "            \"fit_intercept\": [True, False],\n",
    "            \"copy_X\":  [True, False],\n",
    "            \"positive\": [True, False]\n",
    "\n",
    "            }\n",
    "    grid = GridSearchCV(estimator, param_grid, n_jobs=-1, cv=5)\n",
    "    grid.fit(X_train, y_train)\n",
    "    return grid.best_score_ , grid.best_params_\n",
    "\n",
    "\n",
    "def Grid_Search_RandomForest(X_train, y_train):\n",
    "    from sklearn.model_selection import GridSearchCV\n",
    "\n",
    "    from sklearn.ensemble import RandomForestRegressor\n",
    "\n",
    "    estimator = RandomForestRegressor()\n",
    "    param_grid = { \n",
    "            \"n_estimators\"      : [10,20,30,100],\n",
    "            \"max_features\"      : [None, \"sqrt\", \"log2\"],\n",
    "            \"min_samples_split\" : [2,4,8],\n",
    "            \"bootstrap\": [True, False],\n",
    "            \"max_leaf_nodes\": [None, 10,20,30]\n",
    "            }\n",
    "\n",
    "    grid = GridSearchCV(estimator, param_grid, n_jobs=-1, cv=5)\n",
    "\n",
    "    grid.fit(X_train, y_train)\n",
    "\n",
    "    return grid.best_score_ , grid.best_params_\n"
   ]
  },
  {
   "attachments": {},
   "cell_type": "markdown",
   "metadata": {},
   "source": [
    "### Viết hàm để tính giá trị MSE và RMSE\n",
    "- Các công thức cơ bản về MSE và RMSE\n",
    "- Với RMSE sẽ cho biết mức độ phân tán các giá trị dự đoán từ các giá trị thực tế\n",
    "- Để kiểm tra mức độ lỗi của một mô hình, chúng ta có thể sử dụng Mean Squared Error(mse) và Root Mean Square Error (RMSE).\n",
    "- Đây là một trong các phương pháp để đo trung bình của ô vuông của sai số. Về cơ bản, nó sẽ kiểm tra sự khác biệt giữa giá trị thực tế và giá trị dự đoán. Để sử dụng nó, chúng ta có thể sử dụng hàm bình phương trung bình sai số của scikit-learn bằng cách chạy đoạn mã này\n",
    "- Giá trị cằng gần 0 thì độ chính xác càng cao.\n",
    "\n",
    "![a](https://solieu.vip/wp-content/uploads/2020/07/mse-768x233.png)\n",
    "\n",
    "![a](https://solieu.vip/wp-content/uploads/2020/07/cong-thuc-rmse.png)"
   ]
  },
  {
   "cell_type": "code",
   "execution_count": 7,
   "metadata": {},
   "outputs": [],
   "source": [
    "def performance(y_pred,y_test):\n",
    "    print('MSE:',mean_squared_error(y_test,y_pred))\n",
    "    print('RMSE:',np.sqrt(metrics.mean_squared_error(y_test, y_pred)))"
   ]
  },
  {
   "attachments": {},
   "cell_type": "markdown",
   "metadata": {},
   "source": [
    "### Random Forest Model\n"
   ]
  },
  {
   "attachments": {},
   "cell_type": "markdown",
   "metadata": {},
   "source": [
    "- Chọn ra những best parameters"
   ]
  },
  {
   "cell_type": "code",
   "execution_count": 8,
   "metadata": {},
   "outputs": [
    {
     "name": "stdout",
     "output_type": "stream",
     "text": [
      "Best Score: 0.6481326943576557\n",
      "Best params: {'bootstrap': True, 'max_features': 'log2', 'max_leaf_nodes': None, 'min_samples_split': 4, 'n_estimators': 100}\n"
     ]
    }
   ],
   "source": [
    "best_score, best_params = Grid_Search_RandomForest(X_train, y_train)\n",
    "\n",
    "print (\"Best Score:\" ,best_score)\n",
    "print (\"Best params:\",best_params)"
   ]
  },
  {
   "attachments": {},
   "cell_type": "markdown",
   "metadata": {},
   "source": [
    "- Random Forest là một kỹ thuật hòa tấu có khả năng thực hiện cả nhiệm vụ hồi quy và phân loại với việc sử dụng nhiều cây quyết định và một kỹ thuật được gọi là Bootstrap và Aggregation, thường được gọi là đóng bao. Ý tưởng cơ bản đằng sau điều này là kết hợp nhiều cây quyết định trong việc xác định kết quả cuối cùng thay vì dựa vào các cây quyết định riêng lẻ.\n",
    "Random Forest có nhiều cây quyết định làm mô hình học tập cơ sở.\n",
    "- Ta sẽ đào tạo mô hình trên tập huấn luyện và thực hiện các dự đoán trên tập kiểm tra.\n",
    "- Nhập lớp DecisionTreeRegressor từ sklearn.tree và gán nó cho biến _model\n",
    "- Hàm .fit() cho phép huấn luyện mô hình, điều chỉnh trọng số theo các giá trị dữ liệu để đạt được độ chính xác cao hơn"
   ]
  },
  {
   "cell_type": "code",
   "execution_count": 9,
   "metadata": {},
   "outputs": [
    {
     "data": {
      "text/html": [
       "<style>#sk-container-id-1 {color: black;background-color: white;}#sk-container-id-1 pre{padding: 0;}#sk-container-id-1 div.sk-toggleable {background-color: white;}#sk-container-id-1 label.sk-toggleable__label {cursor: pointer;display: block;width: 100%;margin-bottom: 0;padding: 0.3em;box-sizing: border-box;text-align: center;}#sk-container-id-1 label.sk-toggleable__label-arrow:before {content: \"▸\";float: left;margin-right: 0.25em;color: #696969;}#sk-container-id-1 label.sk-toggleable__label-arrow:hover:before {color: black;}#sk-container-id-1 div.sk-estimator:hover label.sk-toggleable__label-arrow:before {color: black;}#sk-container-id-1 div.sk-toggleable__content {max-height: 0;max-width: 0;overflow: hidden;text-align: left;background-color: #f0f8ff;}#sk-container-id-1 div.sk-toggleable__content pre {margin: 0.2em;color: black;border-radius: 0.25em;background-color: #f0f8ff;}#sk-container-id-1 input.sk-toggleable__control:checked~div.sk-toggleable__content {max-height: 200px;max-width: 100%;overflow: auto;}#sk-container-id-1 input.sk-toggleable__control:checked~label.sk-toggleable__label-arrow:before {content: \"▾\";}#sk-container-id-1 div.sk-estimator input.sk-toggleable__control:checked~label.sk-toggleable__label {background-color: #d4ebff;}#sk-container-id-1 div.sk-label input.sk-toggleable__control:checked~label.sk-toggleable__label {background-color: #d4ebff;}#sk-container-id-1 input.sk-hidden--visually {border: 0;clip: rect(1px 1px 1px 1px);clip: rect(1px, 1px, 1px, 1px);height: 1px;margin: -1px;overflow: hidden;padding: 0;position: absolute;width: 1px;}#sk-container-id-1 div.sk-estimator {font-family: monospace;background-color: #f0f8ff;border: 1px dotted black;border-radius: 0.25em;box-sizing: border-box;margin-bottom: 0.5em;}#sk-container-id-1 div.sk-estimator:hover {background-color: #d4ebff;}#sk-container-id-1 div.sk-parallel-item::after {content: \"\";width: 100%;border-bottom: 1px solid gray;flex-grow: 1;}#sk-container-id-1 div.sk-label:hover label.sk-toggleable__label {background-color: #d4ebff;}#sk-container-id-1 div.sk-serial::before {content: \"\";position: absolute;border-left: 1px solid gray;box-sizing: border-box;top: 0;bottom: 0;left: 50%;z-index: 0;}#sk-container-id-1 div.sk-serial {display: flex;flex-direction: column;align-items: center;background-color: white;padding-right: 0.2em;padding-left: 0.2em;position: relative;}#sk-container-id-1 div.sk-item {position: relative;z-index: 1;}#sk-container-id-1 div.sk-parallel {display: flex;align-items: stretch;justify-content: center;background-color: white;position: relative;}#sk-container-id-1 div.sk-item::before, #sk-container-id-1 div.sk-parallel-item::before {content: \"\";position: absolute;border-left: 1px solid gray;box-sizing: border-box;top: 0;bottom: 0;left: 50%;z-index: -1;}#sk-container-id-1 div.sk-parallel-item {display: flex;flex-direction: column;z-index: 1;position: relative;background-color: white;}#sk-container-id-1 div.sk-parallel-item:first-child::after {align-self: flex-end;width: 50%;}#sk-container-id-1 div.sk-parallel-item:last-child::after {align-self: flex-start;width: 50%;}#sk-container-id-1 div.sk-parallel-item:only-child::after {width: 0;}#sk-container-id-1 div.sk-dashed-wrapped {border: 1px dashed gray;margin: 0 0.4em 0.5em 0.4em;box-sizing: border-box;padding-bottom: 0.4em;background-color: white;}#sk-container-id-1 div.sk-label label {font-family: monospace;font-weight: bold;display: inline-block;line-height: 1.2em;}#sk-container-id-1 div.sk-label-container {text-align: center;}#sk-container-id-1 div.sk-container {/* jupyter's `normalize.less` sets `[hidden] { display: none; }` but bootstrap.min.css set `[hidden] { display: none !important; }` so we also need the `!important` here to be able to override the default hidden behavior on the sphinx rendered scikit-learn.org. See: https://github.com/scikit-learn/scikit-learn/issues/21755 */display: inline-block !important;position: relative;}#sk-container-id-1 div.sk-text-repr-fallback {display: none;}</style><div id=\"sk-container-id-1\" class=\"sk-top-container\"><div class=\"sk-text-repr-fallback\"><pre>RandomForestRegressor(max_features=&#x27;sqrt&#x27;, min_samples_split=4)</pre><b>In a Jupyter environment, please rerun this cell to show the HTML representation or trust the notebook. <br />On GitHub, the HTML representation is unable to render, please try loading this page with nbviewer.org.</b></div><div class=\"sk-container\" hidden><div class=\"sk-item\"><div class=\"sk-estimator sk-toggleable\"><input class=\"sk-toggleable__control sk-hidden--visually\" id=\"sk-estimator-id-1\" type=\"checkbox\" checked><label for=\"sk-estimator-id-1\" class=\"sk-toggleable__label sk-toggleable__label-arrow\">RandomForestRegressor</label><div class=\"sk-toggleable__content\"><pre>RandomForestRegressor(max_features=&#x27;sqrt&#x27;, min_samples_split=4)</pre></div></div></div></div></div>"
      ],
      "text/plain": [
       "RandomForestRegressor(max_features='sqrt', min_samples_split=4)"
      ]
     },
     "execution_count": 9,
     "metadata": {},
     "output_type": "execute_result"
    }
   ],
   "source": [
    "from sklearn.ensemble import RandomForestRegressor ,GradientBoostingRegressor\n",
    "_model= RandomForestRegressor(bootstrap= True, max_features='sqrt', max_leaf_nodes= None, min_samples_split=4, n_estimators=100)\n",
    "from sklearn.datasets import make_regression\n",
    "\n",
    "_model.fit(X_train, y_train)"
   ]
  },
  {
   "attachments": {},
   "cell_type": "markdown",
   "metadata": {},
   "source": [
    " - Mô hình đã sẵn sàng để đưa ra dự đoán, được gọi bằng phương thức .predict()."
   ]
  },
  {
   "cell_type": "code",
   "execution_count": 10,
   "metadata": {},
   "outputs": [],
   "source": [
    "y_pred= _model.predict(X_test)"
   ]
  },
  {
   "attachments": {},
   "cell_type": "markdown",
   "metadata": {},
   "source": [
    " - Bây giờ hãy so sánh các giá trị đầu ra thực tế cho X_test với các giá trị được dự đoán, thực thi đoạn mã sau:"
   ]
  },
  {
   "cell_type": "code",
   "execution_count": 11,
   "metadata": {},
   "outputs": [
    {
     "data": {
      "text/html": [
       "<div>\n",
       "<style scoped>\n",
       "    .dataframe tbody tr th:only-of-type {\n",
       "        vertical-align: middle;\n",
       "    }\n",
       "\n",
       "    .dataframe tbody tr th {\n",
       "        vertical-align: top;\n",
       "    }\n",
       "\n",
       "    .dataframe thead th {\n",
       "        text-align: right;\n",
       "    }\n",
       "</style>\n",
       "<table border=\"1\" class=\"dataframe\">\n",
       "  <thead>\n",
       "    <tr style=\"text-align: right;\">\n",
       "      <th></th>\n",
       "      <th>b</th>\n",
       "      <th>_model_preds</th>\n",
       "    </tr>\n",
       "  </thead>\n",
       "  <tbody>\n",
       "    <tr>\n",
       "      <th>1083</th>\n",
       "      <td>6.42</td>\n",
       "      <td>6.621066</td>\n",
       "    </tr>\n",
       "    <tr>\n",
       "      <th>477</th>\n",
       "      <td>6.71</td>\n",
       "      <td>6.742230</td>\n",
       "    </tr>\n",
       "    <tr>\n",
       "      <th>184</th>\n",
       "      <td>6.97</td>\n",
       "      <td>6.792998</td>\n",
       "    </tr>\n",
       "    <tr>\n",
       "      <th>302</th>\n",
       "      <td>6.85</td>\n",
       "      <td>6.704261</td>\n",
       "    </tr>\n",
       "    <tr>\n",
       "      <th>984</th>\n",
       "      <td>6.47</td>\n",
       "      <td>6.329350</td>\n",
       "    </tr>\n",
       "    <tr>\n",
       "      <th>...</th>\n",
       "      <td>...</td>\n",
       "      <td>...</td>\n",
       "    </tr>\n",
       "    <tr>\n",
       "      <th>553</th>\n",
       "      <td>6.66</td>\n",
       "      <td>6.634160</td>\n",
       "    </tr>\n",
       "    <tr>\n",
       "      <th>526</th>\n",
       "      <td>6.68</td>\n",
       "      <td>6.823935</td>\n",
       "    </tr>\n",
       "    <tr>\n",
       "      <th>186</th>\n",
       "      <td>6.97</td>\n",
       "      <td>6.955955</td>\n",
       "    </tr>\n",
       "    <tr>\n",
       "      <th>156</th>\n",
       "      <td>7.00</td>\n",
       "      <td>6.865049</td>\n",
       "    </tr>\n",
       "    <tr>\n",
       "      <th>1373</th>\n",
       "      <td>6.20</td>\n",
       "      <td>6.392599</td>\n",
       "    </tr>\n",
       "  </tbody>\n",
       "</table>\n",
       "<p>290 rows × 2 columns</p>\n",
       "</div>"
      ],
      "text/plain": [
       "         b  _model_preds\n",
       "1083  6.42      6.621066\n",
       "477   6.71      6.742230\n",
       "184   6.97      6.792998\n",
       "302   6.85      6.704261\n",
       "984   6.47      6.329350\n",
       "...    ...           ...\n",
       "553   6.66      6.634160\n",
       "526   6.68      6.823935\n",
       "186   6.97      6.955955\n",
       "156   7.00      6.865049\n",
       "1373  6.20      6.392599\n",
       "\n",
       "[290 rows x 2 columns]"
      ]
     },
     "execution_count": 11,
     "metadata": {},
     "output_type": "execute_result"
    }
   ],
   "source": [
    "pd.DataFrame({'b':y_test,'_model_preds':y_pred})"
   ]
  },
  {
   "cell_type": "code",
   "execution_count": 12,
   "metadata": {},
   "outputs": [
    {
     "data": {
      "image/png": "[encoded data removed]",
      "text/plain": [
       "<Figure size 864x576 with 1 Axes>"
      ]
     },
     "metadata": {
      "needs_background": "light"
     },
     "output_type": "display_data"
    }
   ],
   "source": [
    "plt.figure(figsize=(12,8))\n",
    "plt.scatter(y_test, y_pred,marker='o',s=25)\n",
    "plt.plot([y_test.min(),y_test.max()],[y_test.min(),y_test.max()],c='black',lw=2)\n",
    "plt.grid(True)\n",
    "plt.xlabel(\"Value\")\n",
    "plt.ylabel(\"Predicted Value\")\n",
    "plt.title(\"Random Forest\")\n",
    "plt.show()"
   ]
  },
  {
   "attachments": {},
   "cell_type": "markdown",
   "metadata": {},
   "source": [
    "#### Nhận xét:\n",
    "- Các giá trị scatter plot theo chiều thuận \n",
    "- plot thì theo chiều thuận\n",
    "- => Mô hình này có độ chính xác cao."
   ]
  },
  {
   "attachments": {},
   "cell_type": "markdown",
   "metadata": {},
   "source": [
    "- Sau khi tạo model,ta kiểm tra tính chính xác bằng cách sử dụng giá trị thực tế và dự đoán.\n",
    "- Sau đó ta có được giá trị của MSE và RMSE cùng với r2_score , dự trên các con số trên ta có thể thấy đuọc tính chính xác của mô hình\n",
    "- r2_score số được sử dụng để đánh giá hiệu suất của mô hình hồi quy tuyến tính. "
   ]
  },
  {
   "cell_type": "code",
   "execution_count": 13,
   "metadata": {},
   "outputs": [
    {
     "name": "stdout",
     "output_type": "stream",
     "text": [
      "MSE: 0.03214983031118803\n",
      "RMSE: 0.17930373758287368\n",
      "R2 of RandomForest model is 70.82%\n"
     ]
    }
   ],
   "source": [
    "r2= []\n",
    "rforest_model_r2 = r2_score(y_test, y_pred)\n",
    "rforest_model_accuracy = round(rforest_model_r2*100, 2)\n",
    "performance(y_pred, y_test)\n",
    "print(\"R2 of RandomForest model is \"+ str(rforest_model_accuracy)+\"%\")\n",
    "r2.append(rforest_model_accuracy)"
   ]
  },
  {
   "attachments": {},
   "cell_type": "markdown",
   "metadata": {},
   "source": [
    "## Linear Regression"
   ]
  },
  {
   "attachments": {},
   "cell_type": "markdown",
   "metadata": {},
   "source": [
    "- Chọn ra những best parameters"
   ]
  },
  {
   "cell_type": "code",
   "execution_count": 14,
   "metadata": {},
   "outputs": [
    {
     "name": "stdout",
     "output_type": "stream",
     "text": [
      "Best Score: 0.6716897078482104\n",
      "Best params: {'copy_X': True, 'fit_intercept': True, 'n_jobs': None, 'positive': False}\n"
     ]
    }
   ],
   "source": [
    "\n",
    "best_score, best_params = Grid_Search_LinearRegression(X_train, y_train)\n",
    "\n",
    "print (\"Best Score:\" ,best_score)\n",
    "print (\"Best params:\",best_params)"
   ]
  },
  {
   "attachments": {},
   "cell_type": "markdown",
   "metadata": {},
   "source": [
    "- Chúng ta sẽ chạy hồi quy tuyến tính với những best paramesters vừa tìm được"
   ]
  },
  {
   "cell_type": "code",
   "execution_count": 15,
   "metadata": {},
   "outputs": [],
   "source": [
    "lr = LinearRegression(copy_X= True, fit_intercept= True,n_jobs= None, positive= False )\n",
    "lr.fit(X_train,y_train)\n",
    "\n",
    "#The predicted data\n",
    "y_pred = lr.predict(X_test)"
   ]
  },
  {
   "cell_type": "code",
   "execution_count": 16,
   "metadata": {},
   "outputs": [
    {
     "data": {
      "text/html": [
       "<div>\n",
       "<style scoped>\n",
       "    .dataframe tbody tr th:only-of-type {\n",
       "        vertical-align: middle;\n",
       "    }\n",
       "\n",
       "    .dataframe tbody tr th {\n",
       "        vertical-align: top;\n",
       "    }\n",
       "\n",
       "    .dataframe thead th {\n",
       "        text-align: right;\n",
       "    }\n",
       "</style>\n",
       "<table border=\"1\" class=\"dataframe\">\n",
       "  <thead>\n",
       "    <tr style=\"text-align: right;\">\n",
       "      <th></th>\n",
       "      <th>y</th>\n",
       "      <th>y_pred</th>\n",
       "    </tr>\n",
       "  </thead>\n",
       "  <tbody>\n",
       "    <tr>\n",
       "      <th>1083</th>\n",
       "      <td>6.42</td>\n",
       "      <td>6.623094</td>\n",
       "    </tr>\n",
       "    <tr>\n",
       "      <th>477</th>\n",
       "      <td>6.71</td>\n",
       "      <td>6.706299</td>\n",
       "    </tr>\n",
       "    <tr>\n",
       "      <th>184</th>\n",
       "      <td>6.97</td>\n",
       "      <td>6.758706</td>\n",
       "    </tr>\n",
       "    <tr>\n",
       "      <th>302</th>\n",
       "      <td>6.85</td>\n",
       "      <td>6.527002</td>\n",
       "    </tr>\n",
       "    <tr>\n",
       "      <th>984</th>\n",
       "      <td>6.47</td>\n",
       "      <td>6.337843</td>\n",
       "    </tr>\n",
       "    <tr>\n",
       "      <th>...</th>\n",
       "      <td>...</td>\n",
       "      <td>...</td>\n",
       "    </tr>\n",
       "    <tr>\n",
       "      <th>553</th>\n",
       "      <td>6.66</td>\n",
       "      <td>6.599414</td>\n",
       "    </tr>\n",
       "    <tr>\n",
       "      <th>526</th>\n",
       "      <td>6.68</td>\n",
       "      <td>6.746507</td>\n",
       "    </tr>\n",
       "    <tr>\n",
       "      <th>186</th>\n",
       "      <td>6.97</td>\n",
       "      <td>6.882213</td>\n",
       "    </tr>\n",
       "    <tr>\n",
       "      <th>156</th>\n",
       "      <td>7.00</td>\n",
       "      <td>6.936321</td>\n",
       "    </tr>\n",
       "    <tr>\n",
       "      <th>1373</th>\n",
       "      <td>6.20</td>\n",
       "      <td>6.353026</td>\n",
       "    </tr>\n",
       "  </tbody>\n",
       "</table>\n",
       "<p>290 rows × 2 columns</p>\n",
       "</div>"
      ],
      "text/plain": [
       "         y    y_pred\n",
       "1083  6.42  6.623094\n",
       "477   6.71  6.706299\n",
       "184   6.97  6.758706\n",
       "302   6.85  6.527002\n",
       "984   6.47  6.337843\n",
       "...    ...       ...\n",
       "553   6.66  6.599414\n",
       "526   6.68  6.746507\n",
       "186   6.97  6.882213\n",
       "156   7.00  6.936321\n",
       "1373  6.20  6.353026\n",
       "\n",
       "[290 rows x 2 columns]"
      ]
     },
     "execution_count": 16,
     "metadata": {},
     "output_type": "execute_result"
    }
   ],
   "source": [
    "pd.DataFrame({'y': y_test, 'y_pred': y_pred})"
   ]
  },
  {
   "cell_type": "markdown",
   "metadata": {},
   "source": [
    "Đoạn mã trên sẽ phù hợp với một mô hình dựa trên X_train và y_train. Bây giờ ta đã có mô hình tuyến tính,ta sẽ cố gắng dự đoán nó cho X_test và các giá trị dự đoán sẽ được lưu trong y_pred. Để hình dung sự khác biệt giữa giá thực tế và giá trị dự đoán,ta sẽ vẽ một đồ thị để có thể dễ dàng hình dung"
   ]
  },
  {
   "cell_type": "code",
   "execution_count": 17,
   "metadata": {},
   "outputs": [
    {
     "data": {
      "image/png": "[encoded data removed]",
      "text/plain": [
       "<Figure size 864x576 with 1 Axes>"
      ]
     },
     "metadata": {
      "needs_background": "light"
     },
     "output_type": "display_data"
    }
   ],
   "source": [
    "plt.figure(figsize=(12,8))\n",
    "plt.scatter(y_test, y_pred,marker='o',s=25)\n",
    "plt.plot([y_test.min(),y_test.max()],[y_test.min(),y_test.max()],c='black',lw=2)\n",
    "plt.grid(True)\n",
    "plt.xlabel(\"Value\")\n",
    "plt.ylabel(\"Predicted Value\")\n",
    "plt.title(\"Value vs Predicted Value\")\n",
    "plt.show()"
   ]
  },
  {
   "attachments": {},
   "cell_type": "markdown",
   "metadata": {},
   "source": [
    "#### Nhận xét: \n",
    "- Các giá trị scartter plot phân bố theo chiều thuận. Cùng chiều với plot\n",
    "- Mô hình này có khả năng chính xác cao "
   ]
  },
  {
   "attachments": {},
   "cell_type": "markdown",
   "metadata": {},
   "source": [
    "- Để biết chính xác tới mức nào, ta cần tính giá trị MSE, RMSE: 2 giá trị này càng gần với 0 thì mô hình càng chính xác \n",
    "- r2_score số được sử dụng để đánh giá hiệu suất của mô hình hồi quy tuyến tính. \n",
    "- Kết được hiển thị bên dưới "
   ]
  },
  {
   "cell_type": "code",
   "execution_count": 18,
   "metadata": {},
   "outputs": [
    {
     "name": "stdout",
     "output_type": "stream",
     "text": [
      "MSE: 0.027399551255075368\n",
      "RMSE: 0.16552809808330238\n",
      "R2 of LinearRegression model is 75.13%\n"
     ]
    }
   ],
   "source": [
    "\n",
    "linear_model_r2 = r2_score(y_test, y_pred)\n",
    "linear_model_accuracy = round(linear_model_r2*100, 2)\n",
    "performance(y_pred,y_test)\n",
    "print(\"R2 of LinearRegression model is \"+ str(linear_model_accuracy)+\"%\")\n",
    "r2.append(linear_model_accuracy)"
   ]
  },
  {
   "attachments": {},
   "cell_type": "markdown",
   "metadata": {},
   "source": [
    "### Cross Validation (KFold)\n",
    "![a](https://scikit-learn.org/stable/_images/grid_search_cross_validation.png)"
   ]
  },
  {
   "cell_type": "code",
   "execution_count": 19,
   "metadata": {},
   "outputs": [
    {
     "name": "stdout",
     "output_type": "stream",
     "text": [
      "\n",
      "Col: Apps\n",
      "Mean Squared Error(MSE): 0.051181953940810265\n",
      "Root Mean Squared Error(RMSE): 0.22623428993150058\n",
      "Apps -50.15472918235596\n",
      "\n",
      "Col: Mins\n",
      "Mean Squared Error(MSE): 0.05142616485953044\n",
      "Root Mean Squared Error(RMSE): 0.22677337775746614\n",
      "Mins -50.77309121208144\n",
      "\n",
      "Col: Goals\n",
      "Mean Squared Error(MSE): 0.061922675265877886\n",
      "Root Mean Squared Error(RMSE): 0.24884267171423372\n",
      "Goals -43.367122056817955\n",
      "\n",
      "Col: Assists\n",
      "Mean Squared Error(MSE): 0.07808337442093229\n",
      "Root Mean Squared Error(RMSE): 0.2794340251668223\n",
      "Assists -48.07609927588168\n",
      "\n",
      "Col: YelCard\n",
      "Mean Squared Error(MSE): 0.0807686226254849\n",
      "Root Mean Squared Error(RMSE): 0.2841982101025355\n",
      "YelCard -45.34496880942931\n",
      "\n",
      "Col: RedCard\n",
      "Mean Squared Error(MSE): 0.08219051243285741\n",
      "Root Mean Squared Error(RMSE): 0.28668887741392657\n",
      "RedCard -44.83452331388155\n",
      "\n",
      "Col: SpG\n",
      "Mean Squared Error(MSE): 0.06651197608922294\n",
      "Root Mean Squared Error(RMSE): 0.2578991587602079\n",
      "SpG -49.9437285421436\n",
      "\n",
      "Col: PS\n",
      "Mean Squared Error(MSE): 0.08514633128447822\n",
      "Root Mean Squared Error(RMSE): 0.2917984429096191\n",
      "PS -45.856403243233025\n",
      "\n",
      "Col: AerialsWon\n",
      "Mean Squared Error(MSE): 0.07737979942508232\n",
      "Root Mean Squared Error(RMSE): 0.27817224776221355\n",
      "AerialsWon -45.39826221240648\n"
     ]
    }
   ],
   "source": [
    "\n",
    "for col in range(3,12):\n",
    "    X = np.array(df.iloc[:, col]).reshape(-1, 1)\n",
    "    y = df.iloc[:, -1]\n",
    "    \n",
    "    model = LinearRegression()\n",
    "    CV = KFold(n_splits=10, random_state=42, shuffle=True)\n",
    "    \n",
    "    for train_idx, test_idx in CV.split(X):\n",
    "        X_train, X_test, y_train, y_test = X[train_idx], X[test_idx], y[train_idx], y[test_idx]\n",
    "        model.fit(X_train, y_train)\n",
    "    \n",
    "    train_pred = model.predict(X_train)\n",
    "    test_pred = model.predict(X_test)\n",
    "    print('\\nCol:', df.columns[col])\n",
    "    print('Mean Squared Error(MSE):', metrics.mean_squared_error(y_test, test_pred))\n",
    "    print('Root Mean Squared Error(RMSE):', np.sqrt(metrics.mean_squared_error(y_test, test_pred)))\n",
    "    print (df.columns[col], cross_val_score(model, X, y, cv = 10).mean())\n",
    "  \n"
   ]
  },
  {
   "cell_type": "markdown",
   "metadata": {},
   "source": [
    "### Ta nhận xét độ khả quan của các mô hình trên"
   ]
  },
  {
   "cell_type": "code",
   "execution_count": 20,
   "metadata": {},
   "outputs": [
    {
     "data": {
      "image/png": "[encoded data removed]",
      "text/plain": [
       "<Figure size 864x432 with 1 Axes>"
      ]
     },
     "metadata": {
      "needs_background": "light"
     },
     "output_type": "display_data"
    }
   ],
   "source": [
    "x= [ 'RandomForestRegressor', 'LinearRegression']\n",
    "y = r2\n",
    "plt.figure (figsize= (12,6))\n",
    "plt.bar(x,y,label= \"Tên Mô Hình \")\n",
    "plt.xlabel('Tên Mô Hình')\n",
    "plt.ylabel('Độ chính xác ( % )')\n",
    "plt.legend()\n",
    "plt.show()"
   ]
  },
  {
   "attachments": {},
   "cell_type": "markdown",
   "metadata": {},
   "source": [
    "### Nhận xét: \n",
    "- Theo R2_score thì t thấy mô hình LinearRegression sẽ tốt hơn mô hình RandomForestRegressor"
   ]
  },
  {
   "attachments": {},
   "cell_type": "markdown",
   "metadata": {},
   "source": [
    "\n",
    "### Tài liệu kham khảo\n",
    "- Documentation Pandas: https://pandas.pydata.org/docs/user_guide/index.html \n",
    "- Documentation Sklearn: https://scikit-learn.org/0.21/documentation.html \n",
    "- Tài liệu của giảng viên lí thuyết "
   ]
  },
  {
   "cell_type": "markdown",
   "metadata": {},
   "source": []
  }
 ],
 "metadata": {
  "kernelspec": {
   "display_name": "Python 3",
   "language": "python",
   "name": "python3"
  },
  "language_info": {
   "codemirror_mode": {
    "name": "ipython",
    "version": 3
   },
   "file_extension": ".py",
   "mimetype": "text/x-python",
   "name": "python",
   "nbconvert_exporter": "python",
   "pygments_lexer": "ipython3",
   "version": "3.10.0"
  },
  "vscode": {
   "interpreter": {
    "hash": "f2ccb58c476f33ba3e3aee7ac07234ef6b8217ef24ad64d2a7d4fed1a57c1cd2"
   }
  }
 },
 "nbformat": 4,
 "nbformat_minor": 4
}
